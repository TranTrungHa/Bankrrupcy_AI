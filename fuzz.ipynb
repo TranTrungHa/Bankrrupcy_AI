{
  "nbformat": 4,
  "nbformat_minor": 0,
  "metadata": {
    "colab": {
      "provenance": [],
      "mount_file_id": "1CdYMXBjidmPTP3Foky6o3ZJN48rE-Rbr",
      "authorship_tag": "ABX9TyMAYwM3MRWr992OOvC/2Rcm",
      "include_colab_link": true
    },
    "kernelspec": {
      "name": "python3",
      "display_name": "Python 3"
    },
    "language_info": {
      "name": "python"
    }
  },
  "cells": [
    {
      "cell_type": "markdown",
      "metadata": {
        "id": "view-in-github",
        "colab_type": "text"
      },
      "source": [
        "<a href=\"https://colab.research.google.com/github/TranTrungHa/Bankrrupcy_AI/blob/main/fuzz.ipynb\" target=\"_parent\"><img src=\"https://colab.research.google.com/assets/colab-badge.svg\" alt=\"Open In Colab\"/></a>"
      ]
    },
    {
      "cell_type": "code",
      "execution_count": 5,
      "metadata": {
        "colab": {
          "base_uri": "https://localhost:8080/"
        },
        "id": "LjHeOGtxC8qX",
        "outputId": "8bb46310-8004-448c-fb45-64c753d083d0"
      },
      "outputs": [
        {
          "output_type": "stream",
          "name": "stdout",
          "text": [
            "detect column loai the\n",
            "detect column so the\n",
            "detect column ngay\n",
            "detect column id\n",
            "detect column MA_CN\n",
            "Số thẻ is cleaned\n",
            "Loại thẻ is cleaned\n",
            "ngày tháng is cleaned\n",
            "Mã KH is cleaned\n",
            "Mã Chi nhánh is cleaned\n",
            "Họ và Tên is cleaned\n"
          ]
        },
        {
          "output_type": "stream",
          "name": "stderr",
          "text": [
            "<ipython-input-5-3ddbd23407e4>:83: FutureWarning: The default value of regex will change from True to False in a future version.\n",
            "  data_cleaned['Loại thẻ aft_clean'] = data_cleaned['Loại thẻ std'].str.replace('( Ecommer)|( Main)|( Sub)','')\n",
            "<ipython-input-5-3ddbd23407e4>:88: UserWarning: Parsing dates in DD/MM/YYYY format when dayfirst=False (the default) was specified. This may lead to inconsistently parsed dates! Specify a format to ensure consistent parsing.\n",
            "  data_cleaned['ngày tháng aft_clean'] = pd.to_datetime(data_cleaned['ngày tháng std'])\n"
          ]
        },
        {
          "output_type": "stream",
          "name": "stdout",
          "text": [
            "Số thẻ is cleaned\n"
          ]
        },
        {
          "output_type": "stream",
          "name": "stderr",
          "text": [
            "<ipython-input-5-3ddbd23407e4>:83: FutureWarning: The default value of regex will change from True to False in a future version.\n",
            "  data_cleaned['Loại thẻ aft_clean'] = data_cleaned['Loại thẻ std'].str.replace('( Ecommer)|( Main)|( Sub)','')\n"
          ]
        },
        {
          "output_type": "stream",
          "name": "stdout",
          "text": [
            "Loại thẻ is cleaned\n",
            "ngày tháng is cleaned\n",
            "Mã KH is cleaned\n",
            "Mã Chi nhánh is cleaned\n"
          ]
        }
      ],
      "source": [
        "import gc\n",
        "import os\n",
        "import pandas as pd, datetime as dt\n",
        "from datetime import date\n",
        "import regex as re\n",
        "from fuzzywuzzy import fuzz\n",
        "from fuzzywuzzy import process\n",
        "\n",
        "list_look_u = {'MA_KHACH_HANG': 'Mã KH aft_clean', 'CARD_NUMBER':'Số thẻ aft_clean', \n",
        "               'NGAY_PHAT_HANH': 'ngày tháng aft_clean', 'TEN_KHACH_HANG':'Họ và Tên aft_clean',\n",
        "               'LOAI_SAN_PHAM':'Loại thẻ aft_clean'}\n",
        "\n",
        "list_pair_1 = ['Họ và Tên aft_clean_x',  'Số thẻ aft_clean_x',\n",
        "                'Loại thẻ aft_clean_x','ngày tháng aft_clean_x', 'Mã Chi nhánh aft_clean_x']\n",
        "list_pair_2 = ['Họ và Tên aft_clean_y' , 'Số thẻ aft_clean_y' ,\n",
        "               'Loại thẻ aft_clean_y','ngày tháng aft_clean_y' ,'Mã Chi nhánh aft_clean_y']\n",
        "list_pair_3 = {'Họ và Tên aft_clean_x' : 'Họ và Tên aft_clean_y',  'Số thẻ aft_clean_x' : 'Số thẻ aft_clean_y',\n",
        "                'Loại thẻ aft_clean_x' : 'Loại thẻ aft_clean_y' ,'ngày tháng aft_clean_x' : 'ngày tháng aft_clean_y'\n",
        "                , 'Mã Chi nhánh aft_clean_x': 'Mã Chi nhánh aft_clean_y'}\n",
        "\n",
        "# Đặt tên File cuối cùng theo ngày xuất\n",
        "Name_File =  \"C:/Users/ha.tt6/Desktop/PhatFullControll/HuyThe/FileSauCung{}.xlsx\".format(date.today().strftime(\"%d%m%Y\"))\n",
        "\n",
        "# Lấy file so sánh\n",
        "#File_Full = pd.read_excel(r'E:/BaK_F/Data_123/old/Tổng_Phát_Hành.xlsx'\n",
        "#                    ,dtype={'MA_KHACH_HANG':str,'Trang thai':str},sheet_name=\"Process\",header =0\n",
        "#                    ,na_values ='N/A', usecols ='A,B,E,F,G,H,I,J,K,L,M,P,Q,R')\n",
        "df_all = pd.read_excel('/content/Tdata.xlsx',header =0,na_values ='N/A')\n",
        "File_CP = pd.read_excel('/content/drive/MyDrive/Card_portal_05.xlsx'\n",
        "                    ,dtype={'Mã khách hàng':str},sheet_name=\"Sheet1\",header =0,na_values ='N/A')\n",
        "\n",
        "#Xử lý file so sánh\n",
        "#Số thẻ nếu re dạng số thẻ: 4 số đầu, 4 số cuối và *** hoặc xxx\n",
        "Sothe = '(\\d{4})(\\*{1,16})(\\d{4})|(\\d{4})(x{1,16})(\\d{4})'\n",
        "#Loại thẻ nếu nằm trong list loại thẻ\n",
        "Loaithe = '(VS)|(VISA)|(MC)|(LOCAL)'\n",
        "#ngày phát hànhnếu chứa số và / , len =< 10\n",
        "ngaythang = '(\\d+/\\d+/\\d+)|(\\d+-\\d+-\\d+)'\n",
        "#ID Nếu chỉ chứa số và hay bắt đầu với 1\n",
        "ID = '^[1][0-9]{0,8}'\n",
        "#Tên nếu chỉ chứa chữ và độ unique lớn:\n",
        "HoTen = '[a-zA-Z\\s]+$'\n",
        "#MÃ DVKD bắt đầu với VN001\n",
        "MACN = '^VN001'\n",
        "# List tên hình mẫu và hình mẫu tương ứng\n",
        "list_partten = {'Số thẻ std':Sothe, 'Loại thẻ std':Loaithe, 'ngày tháng std':ngaythang, 'Mã KH std':ID,'Mã Chi nhánh std':MACN}\n",
        "# Xác định cột chứa số thẻ, loại thẻ, ngày phát hành, ID, Tên KH, Mã DVKD\n",
        "def find_col(data_in, pattern):\n",
        "  data1 = data_in\n",
        "  len1 = len(data1.index)\n",
        "  for name1 in data1.columns:\n",
        "    for name_pat, pat in pattern.items():\n",
        "      counting1 = (data1[name1].astype(str).str.count(pat, flags=2).sum())/len1\n",
        "      if counting1 > 0.8:\n",
        "        data1[name_pat] = data1[name1]\n",
        "        print('detect column {}'.format(name1))\n",
        "  data3 = clean_data(data1)\n",
        "  return data3\n",
        "\n",
        "def find_col_name(data_in, pattern):\n",
        "  data2 = data_in\n",
        "  for name1 in data2.columns:\n",
        "    for name_pat, pat in pattern.items():\n",
        "      if name1 not in name_pat:\n",
        "        if ((data2[name1].astype(str).str.count(HoTen).sum())/len(data2) > 0.85) & (data2[name1].nunique()/len(data2) > 0.9):\n",
        "          try:\n",
        "            data2['Họ và Tên aft_clean'] = data2[name1].str.strip()\n",
        "            print('Họ và Tên is cleaned')\n",
        "            break\n",
        "          except:\n",
        "            print('Cant clean Họ và Tên')\n",
        "  return data2\n",
        "\n",
        "\n",
        "def clean_data(data_in2):\n",
        "  data_cleaned = data_in2\n",
        "  try:\n",
        "    data_cleaned['Số thẻ aft_clean'] = data_cleaned['Số thẻ std'].str[:4] + 'xxxxxx' + data_cleaned['Số thẻ std'].str[-4:]\n",
        "    print('Số thẻ is cleaned')\n",
        "  except:\n",
        "    print('Cant clean Số thẻ')\n",
        "  try:\n",
        "    data_cleaned['Loại thẻ aft_clean'] = data_cleaned['Loại thẻ std'].str.replace('( Ecommer)|( Main)|( Sub)','')\n",
        "    print('Loại thẻ is cleaned')\n",
        "  except:\n",
        "    print('cant clean loại thẻ')\n",
        "  try:\n",
        "    data_cleaned['ngày tháng aft_clean'] = pd.to_datetime(data_cleaned['ngày tháng std'])\n",
        "    print('ngày tháng is cleaned')\n",
        "  except:\n",
        "    print('cant clean ngày tháng')\n",
        "  try:\n",
        "    data_cleaned['Mã KH aft_clean'] = data_cleaned['Mã KH std'].astype(str)\n",
        "    print('Mã KH is cleaned')\n",
        "  except:\n",
        "    print('cant clean Mã KH')\n",
        "  try:\n",
        "    data_cleaned['Mã Chi nhánh aft_clean'] = data_cleaned['Mã Chi nhánh std']\n",
        "    print('Mã Chi nhánh is cleaned')\n",
        "  except:\n",
        "    print('cant clean Mã Chi nhánh')\n",
        "  return data_cleaned\n",
        "\n",
        "\n",
        "File_CP['Số thẻ std'] = File_CP['Số thẻ']\n",
        "File_CP['Loại thẻ std'] = File_CP['Loại sản phẩm']\n",
        "File_CP['ngày tháng std'] = File_CP['Ngày phát hành']\n",
        "File_CP['Mã KH std'] = File_CP['Mã khách hàng']\n",
        "File_CP['Mã Chi nhánh std'] = File_CP['Mã CN']\n",
        "File_CP['Họ và Tên aft_clean'] = File_CP['Tên khách hàng']\n",
        "\n",
        "\n",
        "#Fuzzywuzzy: Tìm kiếm ID match, trả lại bảng\n",
        "#Sử dụng fuzz để tính điểm cho số thẻ, tên khách hàng, ngày phát hành, loại sản phẩm\n",
        "#trả lại bảng\n",
        "\n",
        "    \n",
        "ketqua1 = find_col(df_all,list_partten)\n",
        "ketqua2 = find_col_name(ketqua1, list_partten)\n",
        "ketqua3 = clean_data(File_CP)\n",
        "#saucung = saucung.drop(columns=['Số thẻ std', 'Loại thẻ std', 'ngày tháng std', 'Mã KH std','Mã Chi nhánh std'])\n"
      ]
    },
    {
      "cell_type": "code",
      "source": [
        "\n",
        "def fuzzy_match(val1, val2):\n",
        "  return fuzz.partial_ratio(str(val1), str(val2))\n",
        "\n",
        "def sosanh_percent(data_input,data_CP):\n",
        "    data_temp = data_input\n",
        "    Data1 = data_temp.merge(data_CP, on='Mã KH aft_clean', how='left')\n",
        "    for keyy, valuee in list_pair_3.items():\n",
        "      Data1['fuzzyw'+str(keyy)+str(valuee)] = Data1.apply(lambda row: fuzzy_match(row[keyy], row[valuee]), axis=1)\n",
        "    Data1['WuzzySum'] = 0\n",
        "    for col in Data1.columns:\n",
        "      if col[:6] == 'fuzzyw':\n",
        "        Data1['WuzzySum'] += Data1[col]\n",
        "    Data1['WuzzySum'] = Data1['WuzzySum']/len(list_pair_1)\n",
        "    return Data1\n",
        "    \n",
        "saucung = sosanh_percent(ketqua2,ketqua3)\n",
        "saucung.to_excel('drive/MyDrive/ketquasc.xlsx')"
      ],
      "metadata": {
        "id": "i6dIMWTNFX_T"
      },
      "execution_count": 23,
      "outputs": []
    },
    {
      "cell_type": "code",
      "source": [
        "pip install fuzzywuzzy"
      ],
      "metadata": {
        "colab": {
          "base_uri": "https://localhost:8080/"
        },
        "id": "rcD4witlMDvX",
        "outputId": "c92bbc66-8696-40cd-d316-8081eefdcca2"
      },
      "execution_count": 2,
      "outputs": [
        {
          "output_type": "stream",
          "name": "stdout",
          "text": [
            "Looking in indexes: https://pypi.org/simple, https://us-python.pkg.dev/colab-wheels/public/simple/\n",
            "Collecting fuzzywuzzy\n",
            "  Downloading fuzzywuzzy-0.18.0-py2.py3-none-any.whl (18 kB)\n",
            "Installing collected packages: fuzzywuzzy\n",
            "Successfully installed fuzzywuzzy-0.18.0\n"
          ]
        }
      ]
    }
  ]
}